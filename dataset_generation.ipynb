{
 "cells": [
  {
   "cell_type": "code",
   "execution_count": 1,
   "id": "a5cc62f0",
   "metadata": {},
   "outputs": [],
   "source": [
    "import pandas as pd\n",
    "\n",
    "# Load the dataset (replace with your actual file path)\n",
    "df = pd.read_csv(\"collegiate_athlete_injury_dataset.csv\")\n",
    "\n",
    "# Expand the dataset (replicating and adding slight variations)\n",
    "import numpy as np\n",
    "target_rows = 10000\n",
    "multiplier = target_rows // len(df)\n",
    "remainder = target_rows % len(df)\n",
    "df_expanded = pd.concat([df] * multiplier, ignore_index=True)\n",
    "df_expanded = pd.concat([df_expanded, df.sample(n=remainder, replace=True)], ignore_index=True)\n",
    "\n",
    "# Add slight variations to numeric columns\n",
    "numeric_cols = df.select_dtypes(include=['int64', 'float64']).columns\n",
    "for col in numeric_cols:\n",
    "    noise = np.random.normal(loc=0, scale=df[col].std() * 0.05, size=len(df_expanded))\n",
    "    df_expanded[col] = (df_expanded[col] + noise).round(0).astype(int)\n",
    "\n",
    "# Save the expanded dataset\n",
    "df_expanded.to_csv(\"expanded_collegiate_athlete_injury_dataset.csv\", index=False)\n"
   ]
  },
  {
   "cell_type": "code",
   "execution_count": null,
   "id": "93b4a39d",
   "metadata": {},
   "outputs": [],
   "source": []
  }
 ],
 "metadata": {
  "kernelspec": {
   "display_name": "Python 3 (ipykernel)",
   "language": "python",
   "name": "python3"
  },
  "language_info": {
   "codemirror_mode": {
    "name": "ipython",
    "version": 3
   },
   "file_extension": ".py",
   "mimetype": "text/x-python",
   "name": "python",
   "nbconvert_exporter": "python",
   "pygments_lexer": "ipython3",
   "version": "3.11.5"
  }
 },
 "nbformat": 4,
 "nbformat_minor": 5
}
