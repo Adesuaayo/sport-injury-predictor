{
 "cells": [
  {
   "cell_type": "markdown",
   "id": "44ab1113",
   "metadata": {},
   "source": []
  },
  {
   "cell_type": "code",
   "execution_count": 4,
   "id": "50a2c9f4",
   "metadata": {},
   "outputs": [],
   "source": [
    "import pandas as pd\n",
    "import joblib"
   ]
  },
  {
   "cell_type": "code",
   "execution_count": 5,
   "id": "31d27600",
   "metadata": {},
   "outputs": [],
   "source": [
    "\n",
    "# Create a new sample (one row, same feature names as top_features)\n",
    "X_new_data = pd.DataFrame([{\n",
    "    'ACL_Risk_Score': 78,\n",
    "    'Load_Balance_Score': 82,\n",
    "    'Training_Intensity': 6,\n",
    "    'Training_Load': 40,\n",
    "    'Recovery_Days_Per_Week': 2,\n",
    "    'Fatigue_Score': 5,\n",
    "    'Training_Hours_Per_Week': 12\n",
    "}])"
   ]
  },
  {
   "cell_type": "code",
   "execution_count": 6,
   "id": "daa418d5",
   "metadata": {},
   "outputs": [
    {
     "ename": "NameError",
     "evalue": "name 'top_features' is not defined",
     "output_type": "error",
     "traceback": [
      "\u001b[1;31m---------------------------------------------------------------------------\u001b[0m",
      "\u001b[1;31mNameError\u001b[0m                                 Traceback (most recent call last)",
      "Cell \u001b[1;32mIn[6], line 6\u001b[0m\n\u001b[0;32m      3\u001b[0m loaded_scaler \u001b[38;5;241m=\u001b[39m joblib\u001b[38;5;241m.\u001b[39mload(\u001b[38;5;124m\"\u001b[39m\u001b[38;5;124mscaler_top7.pkl\u001b[39m\u001b[38;5;124m\"\u001b[39m)\n\u001b[0;32m      5\u001b[0m \u001b[38;5;66;03m# Example: Use it for prediction\u001b[39;00m\n\u001b[1;32m----> 6\u001b[0m X_new_scaled \u001b[38;5;241m=\u001b[39m loaded_scaler\u001b[38;5;241m.\u001b[39mtransform(X_new_data[top_features])\n\u001b[0;32m      7\u001b[0m prediction \u001b[38;5;241m=\u001b[39m loaded_model\u001b[38;5;241m.\u001b[39mpredict(X_new_scaled)\n",
      "\u001b[1;31mNameError\u001b[0m: name 'top_features' is not defined"
     ]
    }
   ],
   "source": [
    "# Load model and scaler\n",
    "loaded_model = joblib.load(\"logistic_model_top7.pkl\")\n",
    "loaded_scaler = joblib.load(\"scaler_top7.pkl\")\n",
    "\n",
    "# Example: Use it for prediction\n",
    "X_new_scaled = loaded_scaler.transform(X_new_data[top_features])\n",
    "prediction = loaded_model.predict(X_new_scaled)\n"
   ]
  },
  {
   "cell_type": "code",
   "execution_count": null,
   "id": "8d7acf4c",
   "metadata": {},
   "outputs": [],
   "source": [
    "print(X_new_scaled)"
   ]
  }
 ],
 "metadata": {
  "kernelspec": {
   "display_name": "Python 3 (ipykernel)",
   "language": "python",
   "name": "python3"
  },
  "language_info": {
   "codemirror_mode": {
    "name": "ipython",
    "version": 3
   },
   "file_extension": ".py",
   "mimetype": "text/x-python",
   "name": "python",
   "nbconvert_exporter": "python",
   "pygments_lexer": "ipython3",
   "version": "3.11.5"
  }
 },
 "nbformat": 4,
 "nbformat_minor": 5
}
